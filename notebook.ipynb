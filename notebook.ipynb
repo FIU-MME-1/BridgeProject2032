{
 "cells": [
  {
   "cell_type": "markdown",
   "source": [
    "The cell below contains some code that you can modify and use to try out new strategies.\n",
    "It is commented out for now.\n",
    "Below that, there is the default behavior shown. That should help you get started."
   ],
   "metadata": {
    "collapsed": false
   }
  },
  {
   "cell_type": "code",
   "execution_count": null,
   "metadata": {
    "collapsed": true
   },
   "outputs": [],
   "source": [
    "# import bridge_designs_template as bd\n",
    "# tt = bd.make_basic_bridge()\n",
    "# bd.ds.truss_simulator(tt, group=bd.group_name)"
   ]
  },
  {
   "cell_type": "code",
   "execution_count": null,
   "outputs": [],
   "source": [
    "%run bridge_designs_template.py"
   ],
   "metadata": {
    "collapsed": false
   }
  }
 ],
 "metadata": {
  "kernelspec": {
   "display_name": "Python 3",
   "language": "python",
   "name": "python3"
  },
  "language_info": {
   "codemirror_mode": {
    "name": "ipython",
    "version": 2
   },
   "file_extension": ".py",
   "mimetype": "text/x-python",
   "name": "python",
   "nbconvert_exporter": "python",
   "pygments_lexer": "ipython2",
   "version": "2.7.6"
  }
 },
 "nbformat": 4,
 "nbformat_minor": 0
}
